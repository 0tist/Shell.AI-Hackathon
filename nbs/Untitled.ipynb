{
 "cells": [
  {
   "cell_type": "code",
   "execution_count": 1,
   "metadata": {},
   "outputs": [],
   "source": [
    "import os\n",
    "import numpy as np\n",
    "import pandas as pd\n",
    "import matplotlib.pyplot as plt\n",
    "from pathlib import Path\n",
    "\n",
    "import torch.nn as nn\n",
    "from fastai.vision.all import *"
   ]
  },
  {
   "cell_type": "code",
   "execution_count": 4,
   "metadata": {},
   "outputs": [
    {
     "data": {
      "text/plain": [
       "(113113,\n",
       " [(15548, 3),\n",
       "  (16155, 3),\n",
       "  (16223, 3),\n",
       "  (16330, 3),\n",
       "  (16488, 3),\n",
       "  (16462, 3),\n",
       "  (15907, 3)])"
      ]
     },
     "execution_count": 4,
     "metadata": {},
     "output_type": "execute_result"
    }
   ],
   "source": [
    "path = Path('../Shell_Hackathon-Dataset/')\n",
    "wind_data = path/'Wind-Data'\n",
    "\n",
    "df_2007 = pd.read_csv(wind_data/'wind_data_2007.csv')\n",
    "df_2008 = pd.read_csv(wind_data/'wind_data_2008.csv')\n",
    "df_2009 = pd.read_csv(wind_data/'wind_data_2009.csv')\n",
    "df_2013 = pd.read_csv(wind_data/'wind_data_2013.csv')\n",
    "df_2014 = pd.read_csv(wind_data/'wind_data_2014.csv')\n",
    "df_2015 = pd.read_csv(wind_data/'wind_data_2015.csv')\n",
    "df_2017 = pd.read_csv(wind_data/'wind_data_2017.csv')\n",
    "\n",
    "shapes_all_year = [df_2007.shape, df_2008.shape, df_2009.shape, df_2013.shape, df_2014.shape, df_2015.shape, df_2017.shape]\n",
    "sum_ = 0\n",
    "for shp in shapes_all_year:\n",
    "    sum_ += shp[0]\n",
    "    \n",
    "sum_, shapes_all_year"
   ]
  },
  {
   "cell_type": "code",
   "execution_count": 5,
   "metadata": {},
   "outputs": [
    {
     "data": {
      "text/plain": [
       "((501, 3), (50, 2))"
      ]
     },
     "execution_count": 5,
     "metadata": {},
     "output_type": "execute_result"
    }
   ],
   "source": [
    "df_pc = pd.read_csv(path/'power_curve.csv')\n",
    "df_turbine = pd.read_csv(path/'turbine_loc_test.csv')\n",
    "\n",
    "df_pc.shape, df_turbine.shape"
   ]
  },
  {
   "cell_type": "code",
   "execution_count": null,
   "metadata": {},
   "outputs": [],
   "source": [
    "from "
   ]
  }
 ],
 "metadata": {
  "kernelspec": {
   "display_name": "Python 3",
   "language": "python",
   "name": "python3"
  },
  "language_info": {
   "codemirror_mode": {
    "name": "ipython",
    "version": 3
   },
   "file_extension": ".py",
   "mimetype": "text/x-python",
   "name": "python",
   "nbconvert_exporter": "python",
   "pygments_lexer": "ipython3",
   "version": "3.8.5"
  }
 },
 "nbformat": 4,
 "nbformat_minor": 4
}
